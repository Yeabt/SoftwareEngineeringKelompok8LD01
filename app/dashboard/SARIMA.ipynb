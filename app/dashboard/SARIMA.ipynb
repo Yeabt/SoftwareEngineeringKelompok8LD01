{
 "cells": [
  {
   "cell_type": "code",
   "execution_count": 2,
   "metadata": {},
   "outputs": [],
   "source": [
    "\n",
    "def run_forcast():\n",
    "    import pandas as pd\n",
    "    import numpy as np\n",
    "    from statsmodels.tsa.statespace.sarimax import SARIMAX\n",
    "    import warnings\n",
    "    warnings.filterwarnings(\"ignore\")\n",
    "    df = pd.read_csv(\"pengeluaran_harian_2024_final.csv\")\n",
    "    df['date'] = pd.to_datetime(df['date'])\n",
    "\n",
    "    monthly_data = df.groupby([df['date'].dt.to_period('M'), 'category'])['amount'].sum().reset_index()\n",
    "    monthly_data['date'] = monthly_data['date'].dt.to_timestamp()\n",
    "    monthly_data.rename(columns={'date': 'ds', 'amount': 'y'}, inplace=True)\n",
    "\n",
    "    categories = monthly_data['category'].unique()\n",
    "    forecast_results = {}\n",
    "\n",
    "    order = (1, 1, 1)\n",
    "    seasonal_order = (1, 1, 1, 12)\n",
    "\n",
    "    for cat in categories:\n",
    "        cat_data = monthly_data[monthly_data['category'] == cat].set_index('ds')['y']\n",
    "        model = SARIMAX(cat_data, order=order, seasonal_order=seasonal_order,\n",
    "                        enforce_stationarity=False, enforce_invertibility=False)\n",
    "        results = model.fit(disp=False)\n",
    "        steps = 2\n",
    "        forecast = results.forecast(steps)\n",
    "        forecast_results[cat] = forecast.values[0]\n",
    "\n",
    "    forecast_date = cat_data.index[-1] + pd.DateOffset(months=1)\n",
    "    forecast_df = pd.DataFrame(forecast_results, index=[forecast_date]).round(0)\n",
    "    forecast_df = forecast_df.applymap(lambda x: f\"Rp. {int(x):,}\".replace(\",\", \".\"))\n",
    "    \n",
    "    print(\"One-Month Forecast:\")\n",
    "    print(forecast_df)\n",
    "\n",
    "   \n",
    "    "
   ]
  },
  {
   "cell_type": "code",
   "execution_count": null,
   "id": "335be74b",
   "metadata": {},
   "outputs": [],
   "source": [
    "\n",
    "def save_result_to_file(result, filename=\"forecast.txt\"):\n",
    "    with open(filename, \"a\") as f:\n",
    "        f.write(f\"{datetime.now()}: {result}\\n\")\n",
    "\n",
    "def run_monthly():\n",
    "    import time\n",
    "    from datetime import datetime\n",
    "\n",
    "    result = run_forcast()\n",
    "    save_result_to_file(result)\n",
    "    while True:\n",
    "        now = datetime.now()\n",
    "        if now.day == 1 and now.hour == 1:\n",
    "            run_forcast()  # Your function\n",
    "            time.sleep(86400)  # Wait a day to avoid double runs\n",
    "        time.sleep(3600)"
   ]
  },
  {
   "cell_type": "code",
   "execution_count": 4,
   "id": "f6a4b110",
   "metadata": {},
   "outputs": [
    {
     "name": "stdout",
     "output_type": "stream",
     "text": [
      "One-Month Forecast:\n",
      "            entertainment food & beverages         health        other  \\\n",
      "2025-01-01  Rp. 2.654.044    Rp. 3.731.897  Rp. 1.656.718  Rp. 873.248   \n",
      "\n",
      "           transportation      utilities  \n",
      "2025-01-01  Rp. 2.027.467  Rp. 2.140.453  \n"
     ]
    },
    {
     "ename": "NameError",
     "evalue": "name 'datetime' is not defined",
     "output_type": "error",
     "traceback": [
      "\u001b[31m---------------------------------------------------------------------------\u001b[39m",
      "\u001b[31mNameError\u001b[39m                                 Traceback (most recent call last)",
      "\u001b[36mCell\u001b[39m\u001b[36m \u001b[39m\u001b[32mIn[4]\u001b[39m\u001b[32m, line 1\u001b[39m\n\u001b[32m----> \u001b[39m\u001b[32m1\u001b[39m \u001b[43mrun_monthly\u001b[49m\u001b[43m(\u001b[49m\u001b[43m)\u001b[49m\n",
      "\u001b[36mCell\u001b[39m\u001b[36m \u001b[39m\u001b[32mIn[3]\u001b[39m\u001b[32m, line 10\u001b[39m, in \u001b[36mrun_monthly\u001b[39m\u001b[34m()\u001b[39m\n\u001b[32m      7\u001b[39m \u001b[38;5;28;01mfrom\u001b[39;00m\u001b[38;5;250m \u001b[39m\u001b[34;01mdatetime\u001b[39;00m\u001b[38;5;250m \u001b[39m\u001b[38;5;28;01mimport\u001b[39;00m datetime\n\u001b[32m      9\u001b[39m result = run_forcast()\n\u001b[32m---> \u001b[39m\u001b[32m10\u001b[39m \u001b[43msave_result_to_file\u001b[49m\u001b[43m(\u001b[49m\u001b[43mresult\u001b[49m\u001b[43m)\u001b[49m\n\u001b[32m     11\u001b[39m \u001b[38;5;28;01mwhile\u001b[39;00m \u001b[38;5;28;01mTrue\u001b[39;00m:\n\u001b[32m     12\u001b[39m     now = datetime.now()\n",
      "\u001b[36mCell\u001b[39m\u001b[36m \u001b[39m\u001b[32mIn[3]\u001b[39m\u001b[32m, line 3\u001b[39m, in \u001b[36msave_result_to_file\u001b[39m\u001b[34m(result, filename)\u001b[39m\n\u001b[32m      1\u001b[39m \u001b[38;5;28;01mdef\u001b[39;00m\u001b[38;5;250m \u001b[39m\u001b[34msave_result_to_file\u001b[39m(result, filename=\u001b[33m\"\u001b[39m\u001b[33mforecast.txt\u001b[39m\u001b[33m\"\u001b[39m):\n\u001b[32m      2\u001b[39m     \u001b[38;5;28;01mwith\u001b[39;00m \u001b[38;5;28mopen\u001b[39m(filename, \u001b[33m\"\u001b[39m\u001b[33ma\u001b[39m\u001b[33m\"\u001b[39m) \u001b[38;5;28;01mas\u001b[39;00m f:\n\u001b[32m----> \u001b[39m\u001b[32m3\u001b[39m         f.write(\u001b[33mf\u001b[39m\u001b[33m\"\u001b[39m\u001b[38;5;132;01m{\u001b[39;00m\u001b[43mdatetime\u001b[49m.now()\u001b[38;5;132;01m}\u001b[39;00m\u001b[33m: \u001b[39m\u001b[38;5;132;01m{\u001b[39;00mresult\u001b[38;5;132;01m}\u001b[39;00m\u001b[38;5;130;01m\\n\u001b[39;00m\u001b[33m\"\u001b[39m)\n",
      "\u001b[31mNameError\u001b[39m: name 'datetime' is not defined"
     ]
    }
   ],
   "source": [
    "run_monthly()"
   ]
  },
  {
   "cell_type": "code",
   "execution_count": null,
   "id": "aa8b234f",
   "metadata": {},
   "outputs": [],
   "source": []
  }
 ],
 "metadata": {
  "kernelspec": {
   "display_name": "base",
   "language": "python",
   "name": "python3"
  },
  "language_info": {
   "codemirror_mode": {
    "name": "ipython",
    "version": 3
   },
   "file_extension": ".py",
   "mimetype": "text/x-python",
   "name": "python",
   "nbconvert_exporter": "python",
   "pygments_lexer": "ipython3",
   "version": "3.12.4"
  }
 },
 "nbformat": 4,
 "nbformat_minor": 5
}
